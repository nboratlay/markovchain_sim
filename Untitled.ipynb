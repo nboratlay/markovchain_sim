{
 "cells": [
  {
   "cell_type": "code",
   "execution_count": 2,
   "id": "fac70a84",
   "metadata": {},
   "outputs": [
    {
     "data": {
      "text/html": [
       "<style>.container { width:100% !important; }</style>"
      ],
      "text/plain": [
       "<IPython.core.display.HTML object>"
      ]
     },
     "metadata": {},
     "output_type": "display_data"
    }
   ],
   "source": [
    "from IPython.display import display, HTML\n",
    "display(HTML(\"<style>.container { width:100% !important; }</style>\"))\n",
    "\n",
    "import pandas as pd\n",
    "import numpy as np\n",
    "import matplotlib.pyplot as plt\n",
    "import seaborn as sns\n",
    "import datetime\n",
    "import time"
   ]
  },
  {
   "cell_type": "code",
   "execution_count": 11,
   "id": "bf3b13e3",
   "metadata": {},
   "outputs": [],
   "source": [
    "mon=pd.read_csv(   'data/monday.csv', sep=';')\n",
    "tue=pd.read_csv(  'data/tuesday.csv', sep=';')\n",
    "wed=pd.read_csv('data/wednesday.csv', sep=';')\n",
    "thu=pd.read_csv( 'data/thursday.csv', sep=';')\n",
    "fri=pd.read_csv(   'data/friday.csv', sep=';')\n",
    "\n",
    "week = [mon, tue, wed, thu, fri]\n",
    "working_days = [\"mon\", \"tue\", \"wed\", \"thu\", \"fri\"]"
   ]
  },
  {
   "cell_type": "code",
   "execution_count": null,
   "id": "ea8d57b1",
   "metadata": {},
   "outputs": [],
   "source": [
    "def smoothen_data(daily_df):\n",
    "    all_customers    = set(daily_df.customer_no.values)\n",
    "    co_customers     = set(daily_df[daily_df[\"location\"]==\"checkout\"].customer_no.values)\n",
    "    non_co_customers = list(all_customers.difference(co_customers))\n",
    "\n",
    "    for cust in non_co_customers:\n",
    "            daily_df=daily_df.append({\"timestamp\":daily_df['timestamp'].str.extract('(^\\S*)')[0][0] +' '+ \"22:00:00\", \"customer_no\":cust,\"location\":\"checkout\"},ignore_index=True)\n",
    "\n",
    "    return daily_df"
   ]
  },
  {
   "cell_type": "code",
   "execution_count": null,
   "id": "cd0b8263",
   "metadata": {},
   "outputs": [],
   "source": [
    "for i in range(len(week)):\n",
    "    week[i] = smoothen_data(week[i])"
   ]
  },
  {
   "cell_type": "code",
   "execution_count": 14,
   "id": "9ab204ab",
   "metadata": {},
   "outputs": [],
   "source": [
    "for i in range(len(week)):\n",
    "    week[i][\"customer_no\"]=week[i][\"customer_no\"].apply(lambda x:str(x)+'_'+working_days[i])\n",
    "    week[i][\"day\"]=working_days[i]"
   ]
  },
  {
   "cell_type": "code",
   "execution_count": 6,
   "id": "217657a5",
   "metadata": {},
   "outputs": [],
   "source": []
  },
  {
   "cell_type": "code",
   "execution_count": 8,
   "id": "65babbce",
   "metadata": {},
   "outputs": [],
   "source": []
  },
  {
   "cell_type": "code",
   "execution_count": null,
   "id": "c0f1f3ae",
   "metadata": {},
   "outputs": [],
   "source": []
  },
  {
   "cell_type": "code",
   "execution_count": 12,
   "id": "340cf9dd",
   "metadata": {},
   "outputs": [],
   "source": []
  },
  {
   "cell_type": "code",
   "execution_count": 13,
   "id": "1a7c15ba",
   "metadata": {},
   "outputs": [],
   "source": []
  },
  {
   "cell_type": "code",
   "execution_count": 15,
   "id": "8760dfbd",
   "metadata": {},
   "outputs": [
    {
     "data": {
      "text/html": [
       "<div>\n",
       "<style scoped>\n",
       "    .dataframe tbody tr th:only-of-type {\n",
       "        vertical-align: middle;\n",
       "    }\n",
       "\n",
       "    .dataframe tbody tr th {\n",
       "        vertical-align: top;\n",
       "    }\n",
       "\n",
       "    .dataframe thead th {\n",
       "        text-align: right;\n",
       "    }\n",
       "</style>\n",
       "<table border=\"1\" class=\"dataframe\">\n",
       "  <thead>\n",
       "    <tr style=\"text-align: right;\">\n",
       "      <th></th>\n",
       "      <th>timestamp</th>\n",
       "      <th>customer_no</th>\n",
       "      <th>location</th>\n",
       "      <th>day</th>\n",
       "    </tr>\n",
       "  </thead>\n",
       "  <tbody>\n",
       "    <tr>\n",
       "      <th>4696</th>\n",
       "      <td>2019-09-03 21:42:00</td>\n",
       "      <td>1409_tue</td>\n",
       "      <td>checkout</td>\n",
       "      <td>tue</td>\n",
       "    </tr>\n",
       "    <tr>\n",
       "      <th>4697</th>\n",
       "      <td>2019-09-03 21:42:00</td>\n",
       "      <td>1411_tue</td>\n",
       "      <td>fruit</td>\n",
       "      <td>tue</td>\n",
       "    </tr>\n",
       "    <tr>\n",
       "      <th>4698</th>\n",
       "      <td>2019-09-03 21:42:00</td>\n",
       "      <td>1419_tue</td>\n",
       "      <td>fruit</td>\n",
       "      <td>tue</td>\n",
       "    </tr>\n",
       "    <tr>\n",
       "      <th>4699</th>\n",
       "      <td>2019-09-03 21:43:00</td>\n",
       "      <td>1412_tue</td>\n",
       "      <td>spices</td>\n",
       "      <td>tue</td>\n",
       "    </tr>\n",
       "    <tr>\n",
       "      <th>4700</th>\n",
       "      <td>2019-09-03 21:43:00</td>\n",
       "      <td>1418_tue</td>\n",
       "      <td>checkout</td>\n",
       "      <td>tue</td>\n",
       "    </tr>\n",
       "    <tr>\n",
       "      <th>4701</th>\n",
       "      <td>2019-09-03 21:43:00</td>\n",
       "      <td>1419_tue</td>\n",
       "      <td>checkout</td>\n",
       "      <td>tue</td>\n",
       "    </tr>\n",
       "    <tr>\n",
       "      <th>4702</th>\n",
       "      <td>2019-09-03 21:43:00</td>\n",
       "      <td>1420_tue</td>\n",
       "      <td>drinks</td>\n",
       "      <td>tue</td>\n",
       "    </tr>\n",
       "    <tr>\n",
       "      <th>4703</th>\n",
       "      <td>2019-09-03 21:44:00</td>\n",
       "      <td>1403_tue</td>\n",
       "      <td>drinks</td>\n",
       "      <td>tue</td>\n",
       "    </tr>\n",
       "    <tr>\n",
       "      <th>4704</th>\n",
       "      <td>2019-09-03 21:44:00</td>\n",
       "      <td>1412_tue</td>\n",
       "      <td>drinks</td>\n",
       "      <td>tue</td>\n",
       "    </tr>\n",
       "    <tr>\n",
       "      <th>4705</th>\n",
       "      <td>2019-09-03 21:46:00</td>\n",
       "      <td>1403_tue</td>\n",
       "      <td>checkout</td>\n",
       "      <td>tue</td>\n",
       "    </tr>\n",
       "    <tr>\n",
       "      <th>4706</th>\n",
       "      <td>2019-09-03 21:46:00</td>\n",
       "      <td>1420_tue</td>\n",
       "      <td>checkout</td>\n",
       "      <td>tue</td>\n",
       "    </tr>\n",
       "    <tr>\n",
       "      <th>4707</th>\n",
       "      <td>2019-09-03 21:46:00</td>\n",
       "      <td>1421_tue</td>\n",
       "      <td>fruit</td>\n",
       "      <td>tue</td>\n",
       "    </tr>\n",
       "    <tr>\n",
       "      <th>4708</th>\n",
       "      <td>2019-09-03 21:46:00</td>\n",
       "      <td>1422_tue</td>\n",
       "      <td>spices</td>\n",
       "      <td>tue</td>\n",
       "    </tr>\n",
       "    <tr>\n",
       "      <th>4709</th>\n",
       "      <td>2019-09-03 21:47:00</td>\n",
       "      <td>1421_tue</td>\n",
       "      <td>drinks</td>\n",
       "      <td>tue</td>\n",
       "    </tr>\n",
       "    <tr>\n",
       "      <th>4710</th>\n",
       "      <td>2019-09-03 21:47:00</td>\n",
       "      <td>1422_tue</td>\n",
       "      <td>dairy</td>\n",
       "      <td>tue</td>\n",
       "    </tr>\n",
       "    <tr>\n",
       "      <th>4711</th>\n",
       "      <td>2019-09-03 21:48:00</td>\n",
       "      <td>1421_tue</td>\n",
       "      <td>checkout</td>\n",
       "      <td>tue</td>\n",
       "    </tr>\n",
       "    <tr>\n",
       "      <th>4712</th>\n",
       "      <td>2019-09-03 21:49:00</td>\n",
       "      <td>1412_tue</td>\n",
       "      <td>checkout</td>\n",
       "      <td>tue</td>\n",
       "    </tr>\n",
       "    <tr>\n",
       "      <th>4713</th>\n",
       "      <td>2019-09-03 21:50:00</td>\n",
       "      <td>1411_tue</td>\n",
       "      <td>dairy</td>\n",
       "      <td>tue</td>\n",
       "    </tr>\n",
       "    <tr>\n",
       "      <th>4714</th>\n",
       "      <td>2019-09-03 22:00:00</td>\n",
       "      <td>1411_tue</td>\n",
       "      <td>checkout</td>\n",
       "      <td>tue</td>\n",
       "    </tr>\n",
       "    <tr>\n",
       "      <th>4715</th>\n",
       "      <td>2019-09-03 22:00:00</td>\n",
       "      <td>1422_tue</td>\n",
       "      <td>checkout</td>\n",
       "      <td>tue</td>\n",
       "    </tr>\n",
       "  </tbody>\n",
       "</table>\n",
       "</div>"
      ],
      "text/plain": [
       "                timestamp customer_no  location  day\n",
       "4696  2019-09-03 21:42:00    1409_tue  checkout  tue\n",
       "4697  2019-09-03 21:42:00    1411_tue     fruit  tue\n",
       "4698  2019-09-03 21:42:00    1419_tue     fruit  tue\n",
       "4699  2019-09-03 21:43:00    1412_tue    spices  tue\n",
       "4700  2019-09-03 21:43:00    1418_tue  checkout  tue\n",
       "4701  2019-09-03 21:43:00    1419_tue  checkout  tue\n",
       "4702  2019-09-03 21:43:00    1420_tue    drinks  tue\n",
       "4703  2019-09-03 21:44:00    1403_tue    drinks  tue\n",
       "4704  2019-09-03 21:44:00    1412_tue    drinks  tue\n",
       "4705  2019-09-03 21:46:00    1403_tue  checkout  tue\n",
       "4706  2019-09-03 21:46:00    1420_tue  checkout  tue\n",
       "4707  2019-09-03 21:46:00    1421_tue     fruit  tue\n",
       "4708  2019-09-03 21:46:00    1422_tue    spices  tue\n",
       "4709  2019-09-03 21:47:00    1421_tue    drinks  tue\n",
       "4710  2019-09-03 21:47:00    1422_tue     dairy  tue\n",
       "4711  2019-09-03 21:48:00    1421_tue  checkout  tue\n",
       "4712  2019-09-03 21:49:00    1412_tue  checkout  tue\n",
       "4713  2019-09-03 21:50:00    1411_tue     dairy  tue\n",
       "4714  2019-09-03 22:00:00    1411_tue  checkout  tue\n",
       "4715  2019-09-03 22:00:00    1422_tue  checkout  tue"
      ]
     },
     "execution_count": 15,
     "metadata": {},
     "output_type": "execute_result"
    }
   ],
   "source": [
    "week[1].tail(20)"
   ]
  },
  {
   "cell_type": "code",
   "execution_count": 16,
   "id": "b587e426",
   "metadata": {},
   "outputs": [
    {
     "name": "stdout",
     "output_type": "stream",
     "text": [
      "<class 'str'>\n"
     ]
    }
   ],
   "source": [
    "print(type(mon['timestamp'][0]))"
   ]
  },
  {
   "cell_type": "code",
   "execution_count": null,
   "id": "6ba466c1",
   "metadata": {},
   "outputs": [],
   "source": []
  },
  {
   "cell_type": "code",
   "execution_count": null,
   "id": "2dd62704",
   "metadata": {},
   "outputs": [],
   "source": []
  },
  {
   "cell_type": "markdown",
   "id": "fda40798",
   "metadata": {},
   "source": [
    "str type is not useful for us. We need to cast it to datetime type to be able to make use of it."
   ]
  },
  {
   "cell_type": "code",
   "execution_count": 17,
   "id": "155eabdf",
   "metadata": {},
   "outputs": [],
   "source": [
    "for day in week:\n",
    "    # set timestamp as datetime and index as well\n",
    "    day.timestamp = pd.to_datetime(day.timestamp)\n",
    "    day.set_index(\"timestamp\", inplace=True)\n",
    "    \n",
    "# let's start working on metadata of the dataframe\n",
    "# for day in week:\n",
    "    # adding a customer count\n",
    "#    day[\"nr_loc\"] = day.groupby(\"customer_no\").cumcount()\n",
    "#    day[\"add\"]   = day.loc[:, \"nr_loc\"].transform(lambda x: 1 if x == 0 else 0)\n",
    "#    add_customer = day.loc[:, \"nr_loc\"].transform(lambda x: 1 if x == 0 else 0)\n",
    "#    day[\"del\"]   = day.loc[:, \"location\"].transform(lambda x: -1 if x == \"checkout\" else 0)\n",
    "#    del_customer = day.loc[:, \"location\"].transform(lambda x: -1 if x == \"checkout\" else 0)\n",
    "#    day[\"net\"] = add_customer + del_customer\n",
    "#    day[\"cust_total\"] = day.loc[:, \"net\"].cumsum()"
   ]
  },
  {
   "cell_type": "code",
   "execution_count": 18,
   "id": "3a2b0fe5",
   "metadata": {},
   "outputs": [
    {
     "data": {
      "text/html": [
       "<div>\n",
       "<style scoped>\n",
       "    .dataframe tbody tr th:only-of-type {\n",
       "        vertical-align: middle;\n",
       "    }\n",
       "\n",
       "    .dataframe tbody tr th {\n",
       "        vertical-align: top;\n",
       "    }\n",
       "\n",
       "    .dataframe thead th {\n",
       "        text-align: right;\n",
       "    }\n",
       "</style>\n",
       "<table border=\"1\" class=\"dataframe\">\n",
       "  <thead>\n",
       "    <tr style=\"text-align: right;\">\n",
       "      <th></th>\n",
       "      <th>customer_no</th>\n",
       "      <th>location</th>\n",
       "      <th>day</th>\n",
       "    </tr>\n",
       "    <tr>\n",
       "      <th>timestamp</th>\n",
       "      <th></th>\n",
       "      <th></th>\n",
       "      <th></th>\n",
       "    </tr>\n",
       "  </thead>\n",
       "  <tbody>\n",
       "    <tr>\n",
       "      <th>2019-09-02 22:00:00</th>\n",
       "      <td>1440_mon</td>\n",
       "      <td>checkout</td>\n",
       "      <td>mon</td>\n",
       "    </tr>\n",
       "    <tr>\n",
       "      <th>2019-09-02 22:00:00</th>\n",
       "      <td>1441_mon</td>\n",
       "      <td>checkout</td>\n",
       "      <td>mon</td>\n",
       "    </tr>\n",
       "    <tr>\n",
       "      <th>2019-09-02 22:00:00</th>\n",
       "      <td>1443_mon</td>\n",
       "      <td>checkout</td>\n",
       "      <td>mon</td>\n",
       "    </tr>\n",
       "    <tr>\n",
       "      <th>2019-09-02 22:00:00</th>\n",
       "      <td>1445_mon</td>\n",
       "      <td>checkout</td>\n",
       "      <td>mon</td>\n",
       "    </tr>\n",
       "    <tr>\n",
       "      <th>2019-09-02 22:00:00</th>\n",
       "      <td>1446_mon</td>\n",
       "      <td>checkout</td>\n",
       "      <td>mon</td>\n",
       "    </tr>\n",
       "    <tr>\n",
       "      <th>2019-09-02 22:00:00</th>\n",
       "      <td>1447_mon</td>\n",
       "      <td>checkout</td>\n",
       "      <td>mon</td>\n",
       "    </tr>\n",
       "    <tr>\n",
       "      <th>2019-09-02 22:00:00</th>\n",
       "      <td>1430_mon</td>\n",
       "      <td>checkout</td>\n",
       "      <td>mon</td>\n",
       "    </tr>\n",
       "    <tr>\n",
       "      <th>2019-09-02 22:00:00</th>\n",
       "      <td>1433_mon</td>\n",
       "      <td>checkout</td>\n",
       "      <td>mon</td>\n",
       "    </tr>\n",
       "    <tr>\n",
       "      <th>2019-09-02 22:00:00</th>\n",
       "      <td>1437_mon</td>\n",
       "      <td>checkout</td>\n",
       "      <td>mon</td>\n",
       "    </tr>\n",
       "    <tr>\n",
       "      <th>2019-09-02 22:00:00</th>\n",
       "      <td>1439_mon</td>\n",
       "      <td>checkout</td>\n",
       "      <td>mon</td>\n",
       "    </tr>\n",
       "  </tbody>\n",
       "</table>\n",
       "</div>"
      ],
      "text/plain": [
       "                    customer_no  location  day\n",
       "timestamp                                     \n",
       "2019-09-02 22:00:00    1440_mon  checkout  mon\n",
       "2019-09-02 22:00:00    1441_mon  checkout  mon\n",
       "2019-09-02 22:00:00    1443_mon  checkout  mon\n",
       "2019-09-02 22:00:00    1445_mon  checkout  mon\n",
       "2019-09-02 22:00:00    1446_mon  checkout  mon\n",
       "2019-09-02 22:00:00    1447_mon  checkout  mon\n",
       "2019-09-02 22:00:00    1430_mon  checkout  mon\n",
       "2019-09-02 22:00:00    1433_mon  checkout  mon\n",
       "2019-09-02 22:00:00    1437_mon  checkout  mon\n",
       "2019-09-02 22:00:00    1439_mon  checkout  mon"
      ]
     },
     "execution_count": 18,
     "metadata": {},
     "output_type": "execute_result"
    }
   ],
   "source": [
    "week[0].tail(10)"
   ]
  },
  {
   "cell_type": "code",
   "execution_count": null,
   "id": "9a07160f",
   "metadata": {},
   "outputs": [],
   "source": []
  },
  {
   "cell_type": "code",
   "execution_count": 19,
   "id": "791842fa",
   "metadata": {},
   "outputs": [],
   "source": [
    "df_week = pd.concat([week[0],week[1],week[2],week[3],week[4]])"
   ]
  },
  {
   "cell_type": "code",
   "execution_count": 20,
   "id": "bd9fea7f",
   "metadata": {},
   "outputs": [
    {
     "name": "stdout",
     "output_type": "stream",
     "text": [
      "<class 'pandas.core.frame.DataFrame'>\n"
     ]
    }
   ],
   "source": [
    "print(type(week[0]))"
   ]
  },
  {
   "cell_type": "code",
   "execution_count": null,
   "id": "360eafb7",
   "metadata": {},
   "outputs": [],
   "source": []
  }
 ],
 "metadata": {
  "kernelspec": {
   "display_name": "Python 3",
   "language": "python",
   "name": "python3"
  },
  "language_info": {
   "codemirror_mode": {
    "name": "ipython",
    "version": 3
   },
   "file_extension": ".py",
   "mimetype": "text/x-python",
   "name": "python",
   "nbconvert_exporter": "python",
   "pygments_lexer": "ipython3",
   "version": "3.7.10"
  }
 },
 "nbformat": 4,
 "nbformat_minor": 5
}
