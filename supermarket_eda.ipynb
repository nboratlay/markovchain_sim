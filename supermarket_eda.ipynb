{
 "cells": [
  {
   "cell_type": "code",
   "execution_count": 12,
   "id": "95696e0f",
   "metadata": {},
   "outputs": [
    {
     "data": {
      "text/html": [
       "<style>.container { width:100% !important; }</style>"
      ],
      "text/plain": [
       "<IPython.core.display.HTML object>"
      ]
     },
     "metadata": {},
     "output_type": "display_data"
    }
   ],
   "source": [
    "from IPython.display import display, HTML\n",
    "display(HTML(\"<style>.container { width:100% !important; }</style>\"))"
   ]
  },
  {
   "cell_type": "code",
   "execution_count": 13,
   "id": "dbcd3b27",
   "metadata": {},
   "outputs": [],
   "source": [
    "import pandas as pd\n",
    "import matplotlib.pyplot as plt\n",
    "import numpy as np\n",
    "\n",
    "monday = pd.read_csv(\"./data/monday.csv\", sep=\";\")\n",
    "tuesday = pd.read_csv(\"./data/tuesday.csv\", sep=\";\")\n",
    "wednesday = pd.read_csv(\"./data/wednesday.csv\", sep=\";\")\n",
    "thursday = pd.read_csv(\"./data/thursday.csv\", sep=\";\")\n",
    "friday = pd.read_csv(\"./data/friday.csv\", sep=\";\")\n",
    "\n",
    "week = [monday, tuesday, wednesday, thursday, friday]"
   ]
  },
  {
   "cell_type": "code",
   "execution_count": 14,
   "id": "389b76aa",
   "metadata": {
    "scrolled": true
   },
   "outputs": [
    {
     "data": {
      "text/html": [
       "<div>\n",
       "<style scoped>\n",
       "    .dataframe tbody tr th:only-of-type {\n",
       "        vertical-align: middle;\n",
       "    }\n",
       "\n",
       "    .dataframe tbody tr th {\n",
       "        vertical-align: top;\n",
       "    }\n",
       "\n",
       "    .dataframe thead th {\n",
       "        text-align: right;\n",
       "    }\n",
       "</style>\n",
       "<table border=\"1\" class=\"dataframe\">\n",
       "  <thead>\n",
       "    <tr style=\"text-align: right;\">\n",
       "      <th></th>\n",
       "      <th>timestamp</th>\n",
       "      <th>customer_no</th>\n",
       "      <th>location</th>\n",
       "    </tr>\n",
       "  </thead>\n",
       "  <tbody>\n",
       "    <tr>\n",
       "      <th>0</th>\n",
       "      <td>2019-09-02 07:03:00</td>\n",
       "      <td>1</td>\n",
       "      <td>dairy</td>\n",
       "    </tr>\n",
       "    <tr>\n",
       "      <th>1</th>\n",
       "      <td>2019-09-02 07:03:00</td>\n",
       "      <td>2</td>\n",
       "      <td>dairy</td>\n",
       "    </tr>\n",
       "    <tr>\n",
       "      <th>2</th>\n",
       "      <td>2019-09-02 07:04:00</td>\n",
       "      <td>3</td>\n",
       "      <td>dairy</td>\n",
       "    </tr>\n",
       "    <tr>\n",
       "      <th>3</th>\n",
       "      <td>2019-09-02 07:04:00</td>\n",
       "      <td>4</td>\n",
       "      <td>dairy</td>\n",
       "    </tr>\n",
       "    <tr>\n",
       "      <th>4</th>\n",
       "      <td>2019-09-02 07:04:00</td>\n",
       "      <td>5</td>\n",
       "      <td>spices</td>\n",
       "    </tr>\n",
       "    <tr>\n",
       "      <th>5</th>\n",
       "      <td>2019-09-02 07:04:00</td>\n",
       "      <td>6</td>\n",
       "      <td>spices</td>\n",
       "    </tr>\n",
       "    <tr>\n",
       "      <th>6</th>\n",
       "      <td>2019-09-02 07:04:00</td>\n",
       "      <td>7</td>\n",
       "      <td>spices</td>\n",
       "    </tr>\n",
       "    <tr>\n",
       "      <th>7</th>\n",
       "      <td>2019-09-02 07:04:00</td>\n",
       "      <td>8</td>\n",
       "      <td>fruit</td>\n",
       "    </tr>\n",
       "    <tr>\n",
       "      <th>8</th>\n",
       "      <td>2019-09-02 07:05:00</td>\n",
       "      <td>1</td>\n",
       "      <td>checkout</td>\n",
       "    </tr>\n",
       "    <tr>\n",
       "      <th>9</th>\n",
       "      <td>2019-09-02 07:05:00</td>\n",
       "      <td>5</td>\n",
       "      <td>checkout</td>\n",
       "    </tr>\n",
       "    <tr>\n",
       "      <th>10</th>\n",
       "      <td>2019-09-02 07:05:00</td>\n",
       "      <td>6</td>\n",
       "      <td>dairy</td>\n",
       "    </tr>\n",
       "    <tr>\n",
       "      <th>11</th>\n",
       "      <td>2019-09-02 07:05:00</td>\n",
       "      <td>7</td>\n",
       "      <td>drinks</td>\n",
       "    </tr>\n",
       "    <tr>\n",
       "      <th>12</th>\n",
       "      <td>2019-09-02 07:06:00</td>\n",
       "      <td>2</td>\n",
       "      <td>checkout</td>\n",
       "    </tr>\n",
       "    <tr>\n",
       "      <th>13</th>\n",
       "      <td>2019-09-02 07:06:00</td>\n",
       "      <td>3</td>\n",
       "      <td>checkout</td>\n",
       "    </tr>\n",
       "    <tr>\n",
       "      <th>14</th>\n",
       "      <td>2019-09-02 07:06:00</td>\n",
       "      <td>9</td>\n",
       "      <td>dairy</td>\n",
       "    </tr>\n",
       "    <tr>\n",
       "      <th>15</th>\n",
       "      <td>2019-09-02 07:06:00</td>\n",
       "      <td>10</td>\n",
       "      <td>fruit</td>\n",
       "    </tr>\n",
       "    <tr>\n",
       "      <th>16</th>\n",
       "      <td>2019-09-02 07:06:00</td>\n",
       "      <td>11</td>\n",
       "      <td>drinks</td>\n",
       "    </tr>\n",
       "    <tr>\n",
       "      <th>17</th>\n",
       "      <td>2019-09-02 07:06:00</td>\n",
       "      <td>12</td>\n",
       "      <td>spices</td>\n",
       "    </tr>\n",
       "    <tr>\n",
       "      <th>18</th>\n",
       "      <td>2019-09-02 07:06:00</td>\n",
       "      <td>13</td>\n",
       "      <td>dairy</td>\n",
       "    </tr>\n",
       "    <tr>\n",
       "      <th>19</th>\n",
       "      <td>2019-09-02 07:06:00</td>\n",
       "      <td>14</td>\n",
       "      <td>fruit</td>\n",
       "    </tr>\n",
       "  </tbody>\n",
       "</table>\n",
       "</div>"
      ],
      "text/plain": [
       "              timestamp  customer_no  location\n",
       "0   2019-09-02 07:03:00            1     dairy\n",
       "1   2019-09-02 07:03:00            2     dairy\n",
       "2   2019-09-02 07:04:00            3     dairy\n",
       "3   2019-09-02 07:04:00            4     dairy\n",
       "4   2019-09-02 07:04:00            5    spices\n",
       "5   2019-09-02 07:04:00            6    spices\n",
       "6   2019-09-02 07:04:00            7    spices\n",
       "7   2019-09-02 07:04:00            8     fruit\n",
       "8   2019-09-02 07:05:00            1  checkout\n",
       "9   2019-09-02 07:05:00            5  checkout\n",
       "10  2019-09-02 07:05:00            6     dairy\n",
       "11  2019-09-02 07:05:00            7    drinks\n",
       "12  2019-09-02 07:06:00            2  checkout\n",
       "13  2019-09-02 07:06:00            3  checkout\n",
       "14  2019-09-02 07:06:00            9     dairy\n",
       "15  2019-09-02 07:06:00           10     fruit\n",
       "16  2019-09-02 07:06:00           11    drinks\n",
       "17  2019-09-02 07:06:00           12    spices\n",
       "18  2019-09-02 07:06:00           13     dairy\n",
       "19  2019-09-02 07:06:00           14     fruit"
      ]
     },
     "execution_count": 14,
     "metadata": {},
     "output_type": "execute_result"
    }
   ],
   "source": [
    "monday.head(20)"
   ]
  },
  {
   "cell_type": "code",
   "execution_count": 7,
   "id": "6d11e9d9",
   "metadata": {},
   "outputs": [
    {
     "name": "stdout",
     "output_type": "stream",
     "text": [
      "The customers that have not checked out on Monday are [1440, 1441, 1443, 1445, 1446, 1447, 1430, 1433, 1437, 1439]\n",
      "The customers that have not checked out on Tuesday are [1411, 1422]\n",
      "The customers that have not checked out on Wednesday are [1520, 1527, 1528, 1529, 1530]\n",
      "The customers that have not checked out on Thursday are [1532, 1533, 1527]\n",
      "The customers that have not checked out on Friday are [1505, 1506, 1509, 1510, 1494, 1496, 1500, 1503]\n"
     ]
    }
   ],
   "source": [
    "for day in week:\n",
    "    # set timestamp as datetime and as index\n",
    "    day.timestamp = pd.to_datetime(day.timestamp)\n",
    "    day.set_index(\"timestamp\", inplace=True)\n",
    "\n",
    "    # Removing the customers that did not check out. \n",
    "    all_customers = set(day.customer_no.values)\n",
    "    checked_out_customers = set(day[day[\"location\"] == \"checkout\"].customer_no.values)\n",
    "    non_checked_out_customers = list(all_customers.difference(checked_out_customers))\n",
    "    day = day[~day.loc[:, \"customer_no\"].isin(non_checked_out_customers)]\n",
    "    print(\n",
    "        f\"\"\"The customers that have not checked out on {day.index[0].day_name()} are {non_checked_out_customers}\"\"\"\n",
    "    )\n",
    "\n",
    "for day in week:\n",
    "    # add the customer count\n",
    "    day[\"nr_loc\"] = day.groupby(\"customer_no\").cumcount()\n",
    "    add_customer = day.loc[:, \"nr_loc\"].transform(lambda x: 1 if x == 0 else 0)\n",
    "    delete_customer = day.loc[:, \"location\"].transform(\n",
    "        lambda x: -1 if x == \"checkout\" else 0\n",
    "    )\n",
    "    day[\"add\"] = add_customer + delete_customer\n",
    "    day[\"cust_total\"] = day.loc[:, \"add\"].cumsum()"
   ]
  },
  {
   "cell_type": "code",
   "execution_count": 8,
   "id": "72f5c918",
   "metadata": {},
   "outputs": [
    {
     "data": {
      "text/html": [
       "<div>\n",
       "<style scoped>\n",
       "    .dataframe tbody tr th:only-of-type {\n",
       "        vertical-align: middle;\n",
       "    }\n",
       "\n",
       "    .dataframe tbody tr th {\n",
       "        vertical-align: top;\n",
       "    }\n",
       "\n",
       "    .dataframe thead th {\n",
       "        text-align: right;\n",
       "    }\n",
       "</style>\n",
       "<table border=\"1\" class=\"dataframe\">\n",
       "  <thead>\n",
       "    <tr style=\"text-align: right;\">\n",
       "      <th></th>\n",
       "      <th>customer_no</th>\n",
       "      <th>location</th>\n",
       "      <th>nr_loc</th>\n",
       "      <th>add</th>\n",
       "      <th>cust_total</th>\n",
       "    </tr>\n",
       "    <tr>\n",
       "      <th>timestamp</th>\n",
       "      <th></th>\n",
       "      <th></th>\n",
       "      <th></th>\n",
       "      <th></th>\n",
       "      <th></th>\n",
       "    </tr>\n",
       "  </thead>\n",
       "  <tbody>\n",
       "    <tr>\n",
       "      <th>2019-09-02 07:03:00</th>\n",
       "      <td>1</td>\n",
       "      <td>dairy</td>\n",
       "      <td>0</td>\n",
       "      <td>1</td>\n",
       "      <td>1</td>\n",
       "    </tr>\n",
       "    <tr>\n",
       "      <th>2019-09-02 07:03:00</th>\n",
       "      <td>2</td>\n",
       "      <td>dairy</td>\n",
       "      <td>0</td>\n",
       "      <td>1</td>\n",
       "      <td>2</td>\n",
       "    </tr>\n",
       "    <tr>\n",
       "      <th>2019-09-02 07:04:00</th>\n",
       "      <td>3</td>\n",
       "      <td>dairy</td>\n",
       "      <td>0</td>\n",
       "      <td>1</td>\n",
       "      <td>3</td>\n",
       "    </tr>\n",
       "    <tr>\n",
       "      <th>2019-09-02 07:04:00</th>\n",
       "      <td>4</td>\n",
       "      <td>dairy</td>\n",
       "      <td>0</td>\n",
       "      <td>1</td>\n",
       "      <td>4</td>\n",
       "    </tr>\n",
       "    <tr>\n",
       "      <th>2019-09-02 07:04:00</th>\n",
       "      <td>5</td>\n",
       "      <td>spices</td>\n",
       "      <td>0</td>\n",
       "      <td>1</td>\n",
       "      <td>5</td>\n",
       "    </tr>\n",
       "  </tbody>\n",
       "</table>\n",
       "</div>"
      ],
      "text/plain": [
       "                     customer_no location  nr_loc  add  cust_total\n",
       "timestamp                                                         \n",
       "2019-09-02 07:03:00            1    dairy       0    1           1\n",
       "2019-09-02 07:03:00            2    dairy       0    1           2\n",
       "2019-09-02 07:04:00            3    dairy       0    1           3\n",
       "2019-09-02 07:04:00            4    dairy       0    1           4\n",
       "2019-09-02 07:04:00            5   spices       0    1           5"
      ]
     },
     "execution_count": 8,
     "metadata": {},
     "output_type": "execute_result"
    }
   ],
   "source": [
    "monday.head()"
   ]
  },
  {
   "cell_type": "code",
   "execution_count": 3,
   "id": "293d68d9",
   "metadata": {},
   "outputs": [
    {
     "name": "stdout",
     "output_type": "stream",
     "text": [
      "<class 'pandas.core.frame.DataFrame'>\n",
      "DatetimeIndex: 4884 entries, 2019-09-02 07:03:00 to 2019-09-02 21:50:00\n",
      "Data columns (total 5 columns):\n",
      " #   Column       Non-Null Count  Dtype \n",
      "---  ------       --------------  ----- \n",
      " 0   customer_no  4884 non-null   int64 \n",
      " 1   location     4884 non-null   object\n",
      " 2   nr_loc       4884 non-null   int64 \n",
      " 3   add          4884 non-null   int64 \n",
      " 4   cust_total   4884 non-null   int64 \n",
      "dtypes: int64(4), object(1)\n",
      "memory usage: 228.9+ KB\n"
     ]
    },
    {
     "data": {
      "text/html": [
       "<div>\n",
       "<style scoped>\n",
       "    .dataframe tbody tr th:only-of-type {\n",
       "        vertical-align: middle;\n",
       "    }\n",
       "\n",
       "    .dataframe tbody tr th {\n",
       "        vertical-align: top;\n",
       "    }\n",
       "\n",
       "    .dataframe thead th {\n",
       "        text-align: right;\n",
       "    }\n",
       "</style>\n",
       "<table border=\"1\" class=\"dataframe\">\n",
       "  <thead>\n",
       "    <tr style=\"text-align: right;\">\n",
       "      <th></th>\n",
       "      <th>customer_no</th>\n",
       "      <th>location</th>\n",
       "      <th>nr_loc</th>\n",
       "      <th>add</th>\n",
       "      <th>cust_total</th>\n",
       "    </tr>\n",
       "    <tr>\n",
       "      <th>timestamp</th>\n",
       "      <th></th>\n",
       "      <th></th>\n",
       "      <th></th>\n",
       "      <th></th>\n",
       "      <th></th>\n",
       "    </tr>\n",
       "  </thead>\n",
       "  <tbody>\n",
       "    <tr>\n",
       "      <th>2019-09-02 21:49:00</th>\n",
       "      <td>1442</td>\n",
       "      <td>checkout</td>\n",
       "      <td>1</td>\n",
       "      <td>-1</td>\n",
       "      <td>8</td>\n",
       "    </tr>\n",
       "    <tr>\n",
       "      <th>2019-09-02 21:49:00</th>\n",
       "      <td>1444</td>\n",
       "      <td>checkout</td>\n",
       "      <td>1</td>\n",
       "      <td>-1</td>\n",
       "      <td>7</td>\n",
       "    </tr>\n",
       "    <tr>\n",
       "      <th>2019-09-02 21:49:00</th>\n",
       "      <td>1445</td>\n",
       "      <td>dairy</td>\n",
       "      <td>0</td>\n",
       "      <td>1</td>\n",
       "      <td>8</td>\n",
       "    </tr>\n",
       "    <tr>\n",
       "      <th>2019-09-02 21:50:00</th>\n",
       "      <td>1446</td>\n",
       "      <td>dairy</td>\n",
       "      <td>0</td>\n",
       "      <td>1</td>\n",
       "      <td>9</td>\n",
       "    </tr>\n",
       "    <tr>\n",
       "      <th>2019-09-02 21:50:00</th>\n",
       "      <td>1447</td>\n",
       "      <td>fruit</td>\n",
       "      <td>0</td>\n",
       "      <td>1</td>\n",
       "      <td>10</td>\n",
       "    </tr>\n",
       "  </tbody>\n",
       "</table>\n",
       "</div>"
      ],
      "text/plain": [
       "                     customer_no  location  nr_loc  add  cust_total\n",
       "timestamp                                                          \n",
       "2019-09-02 21:49:00         1442  checkout       1   -1           8\n",
       "2019-09-02 21:49:00         1444  checkout       1   -1           7\n",
       "2019-09-02 21:49:00         1445     dairy       0    1           8\n",
       "2019-09-02 21:50:00         1446     dairy       0    1           9\n",
       "2019-09-02 21:50:00         1447     fruit       0    1          10"
      ]
     },
     "execution_count": 3,
     "metadata": {},
     "output_type": "execute_result"
    }
   ],
   "source": [
    "monday.info()\n",
    "monday.head()\n",
    "monday.tail()"
   ]
  },
  {
   "cell_type": "code",
   "execution_count": 4,
   "id": "b6c20921",
   "metadata": {},
   "outputs": [],
   "source": [
    "# Add the day\n",
    "monday[\"day\"] = \"monday\"\n",
    "tuesday[\"day\"] = \"tuesday\"\n",
    "wednesday[\"day\"] = \"wednesday\"\n",
    "thursday[\"day\"] = \"thursday\"\n",
    "friday[\"day\"] = \"friday\""
   ]
  },
  {
   "cell_type": "code",
   "execution_count": 5,
   "id": "857815c1",
   "metadata": {},
   "outputs": [
    {
     "data": {
      "text/html": [
       "<div>\n",
       "<style scoped>\n",
       "    .dataframe tbody tr th:only-of-type {\n",
       "        vertical-align: middle;\n",
       "    }\n",
       "\n",
       "    .dataframe tbody tr th {\n",
       "        vertical-align: top;\n",
       "    }\n",
       "\n",
       "    .dataframe thead th {\n",
       "        text-align: right;\n",
       "    }\n",
       "</style>\n",
       "<table border=\"1\" class=\"dataframe\">\n",
       "  <thead>\n",
       "    <tr style=\"text-align: right;\">\n",
       "      <th></th>\n",
       "      <th>customer_no</th>\n",
       "      <th>location</th>\n",
       "      <th>nr_loc</th>\n",
       "      <th>add</th>\n",
       "      <th>cust_total</th>\n",
       "      <th>day</th>\n",
       "    </tr>\n",
       "    <tr>\n",
       "      <th>timestamp</th>\n",
       "      <th></th>\n",
       "      <th></th>\n",
       "      <th></th>\n",
       "      <th></th>\n",
       "      <th></th>\n",
       "      <th></th>\n",
       "    </tr>\n",
       "  </thead>\n",
       "  <tbody>\n",
       "    <tr>\n",
       "      <th>2019-09-06 07:00:00</th>\n",
       "      <td>1</td>\n",
       "      <td>dairy</td>\n",
       "      <td>0</td>\n",
       "      <td>1</td>\n",
       "      <td>1</td>\n",
       "      <td>friday</td>\n",
       "    </tr>\n",
       "    <tr>\n",
       "      <th>2019-09-06 07:00:00</th>\n",
       "      <td>2</td>\n",
       "      <td>drinks</td>\n",
       "      <td>0</td>\n",
       "      <td>1</td>\n",
       "      <td>2</td>\n",
       "      <td>friday</td>\n",
       "    </tr>\n",
       "    <tr>\n",
       "      <th>2019-09-06 07:00:00</th>\n",
       "      <td>3</td>\n",
       "      <td>fruit</td>\n",
       "      <td>0</td>\n",
       "      <td>1</td>\n",
       "      <td>3</td>\n",
       "      <td>friday</td>\n",
       "    </tr>\n",
       "    <tr>\n",
       "      <th>2019-09-06 07:01:00</th>\n",
       "      <td>2</td>\n",
       "      <td>checkout</td>\n",
       "      <td>1</td>\n",
       "      <td>-1</td>\n",
       "      <td>2</td>\n",
       "      <td>friday</td>\n",
       "    </tr>\n",
       "    <tr>\n",
       "      <th>2019-09-06 07:01:00</th>\n",
       "      <td>4</td>\n",
       "      <td>drinks</td>\n",
       "      <td>0</td>\n",
       "      <td>1</td>\n",
       "      <td>3</td>\n",
       "      <td>friday</td>\n",
       "    </tr>\n",
       "  </tbody>\n",
       "</table>\n",
       "</div>"
      ],
      "text/plain": [
       "                     customer_no  location  nr_loc  add  cust_total     day\n",
       "timestamp                                                                  \n",
       "2019-09-06 07:00:00            1     dairy       0    1           1  friday\n",
       "2019-09-06 07:00:00            2    drinks       0    1           2  friday\n",
       "2019-09-06 07:00:00            3     fruit       0    1           3  friday\n",
       "2019-09-06 07:01:00            2  checkout       1   -1           2  friday\n",
       "2019-09-06 07:01:00            4    drinks       0    1           3  friday"
      ]
     },
     "execution_count": 5,
     "metadata": {},
     "output_type": "execute_result"
    }
   ],
   "source": [
    "friday.head()"
   ]
  },
  {
   "cell_type": "code",
   "execution_count": 6,
   "id": "4b022b30",
   "metadata": {},
   "outputs": [
    {
     "data": {
      "text/html": [
       "<div>\n",
       "<style scoped>\n",
       "    .dataframe tbody tr th:only-of-type {\n",
       "        vertical-align: middle;\n",
       "    }\n",
       "\n",
       "    .dataframe tbody tr th {\n",
       "        vertical-align: top;\n",
       "    }\n",
       "\n",
       "    .dataframe thead th {\n",
       "        text-align: right;\n",
       "    }\n",
       "</style>\n",
       "<table border=\"1\" class=\"dataframe\">\n",
       "  <thead>\n",
       "    <tr style=\"text-align: right;\">\n",
       "      <th></th>\n",
       "      <th>customer_no</th>\n",
       "      <th>location</th>\n",
       "      <th>nr_loc</th>\n",
       "      <th>add</th>\n",
       "      <th>cust_total</th>\n",
       "      <th>day</th>\n",
       "    </tr>\n",
       "    <tr>\n",
       "      <th>timestamp</th>\n",
       "      <th></th>\n",
       "      <th></th>\n",
       "      <th></th>\n",
       "      <th></th>\n",
       "      <th></th>\n",
       "      <th></th>\n",
       "    </tr>\n",
       "  </thead>\n",
       "  <tbody>\n",
       "    <tr>\n",
       "      <th>2019-09-02 07:03:00</th>\n",
       "      <td>1</td>\n",
       "      <td>dairy</td>\n",
       "      <td>0</td>\n",
       "      <td>1</td>\n",
       "      <td>1</td>\n",
       "      <td>monday</td>\n",
       "    </tr>\n",
       "    <tr>\n",
       "      <th>2019-09-02 07:03:00</th>\n",
       "      <td>2</td>\n",
       "      <td>dairy</td>\n",
       "      <td>0</td>\n",
       "      <td>1</td>\n",
       "      <td>2</td>\n",
       "      <td>monday</td>\n",
       "    </tr>\n",
       "    <tr>\n",
       "      <th>2019-09-02 07:04:00</th>\n",
       "      <td>3</td>\n",
       "      <td>dairy</td>\n",
       "      <td>0</td>\n",
       "      <td>1</td>\n",
       "      <td>3</td>\n",
       "      <td>monday</td>\n",
       "    </tr>\n",
       "    <tr>\n",
       "      <th>2019-09-02 07:04:00</th>\n",
       "      <td>4</td>\n",
       "      <td>dairy</td>\n",
       "      <td>0</td>\n",
       "      <td>1</td>\n",
       "      <td>4</td>\n",
       "      <td>monday</td>\n",
       "    </tr>\n",
       "    <tr>\n",
       "      <th>2019-09-02 07:04:00</th>\n",
       "      <td>5</td>\n",
       "      <td>spices</td>\n",
       "      <td>0</td>\n",
       "      <td>1</td>\n",
       "      <td>5</td>\n",
       "      <td>monday</td>\n",
       "    </tr>\n",
       "  </tbody>\n",
       "</table>\n",
       "</div>"
      ],
      "text/plain": [
       "                     customer_no location  nr_loc  add  cust_total     day\n",
       "timestamp                                                                 \n",
       "2019-09-02 07:03:00            1    dairy       0    1           1  monday\n",
       "2019-09-02 07:03:00            2    dairy       0    1           2  monday\n",
       "2019-09-02 07:04:00            3    dairy       0    1           3  monday\n",
       "2019-09-02 07:04:00            4    dairy       0    1           4  monday\n",
       "2019-09-02 07:04:00            5   spices       0    1           5  monday"
      ]
     },
     "execution_count": 6,
     "metadata": {},
     "output_type": "execute_result"
    }
   ],
   "source": [
    "total = monday.append(tuesday.append(wednesday.append(thursday.append(friday))))\n",
    "total.shape\n",
    "total.head()"
   ]
  },
  {
   "cell_type": "code",
   "execution_count": 7,
   "id": "a94d2910",
   "metadata": {},
   "outputs": [
    {
     "data": {
      "text/html": [
       "<div>\n",
       "<style scoped>\n",
       "    .dataframe tbody tr th:only-of-type {\n",
       "        vertical-align: middle;\n",
       "    }\n",
       "\n",
       "    .dataframe tbody tr th {\n",
       "        vertical-align: top;\n",
       "    }\n",
       "\n",
       "    .dataframe thead th {\n",
       "        text-align: right;\n",
       "    }\n",
       "</style>\n",
       "<table border=\"1\" class=\"dataframe\">\n",
       "  <thead>\n",
       "    <tr style=\"text-align: right;\">\n",
       "      <th></th>\n",
       "      <th>customer_no</th>\n",
       "      <th>location</th>\n",
       "      <th>nr_loc</th>\n",
       "      <th>add</th>\n",
       "      <th>cust_total</th>\n",
       "      <th>day</th>\n",
       "    </tr>\n",
       "    <tr>\n",
       "      <th>timestamp</th>\n",
       "      <th></th>\n",
       "      <th></th>\n",
       "      <th></th>\n",
       "      <th></th>\n",
       "      <th></th>\n",
       "      <th></th>\n",
       "    </tr>\n",
       "  </thead>\n",
       "  <tbody>\n",
       "    <tr>\n",
       "      <th>2019-09-06 07:00:00</th>\n",
       "      <td>1</td>\n",
       "      <td>dairy</td>\n",
       "      <td>0</td>\n",
       "      <td>1</td>\n",
       "      <td>1</td>\n",
       "      <td>friday</td>\n",
       "    </tr>\n",
       "    <tr>\n",
       "      <th>2019-09-06 07:01:00</th>\n",
       "      <td>1</td>\n",
       "      <td>dairy</td>\n",
       "      <td>0</td>\n",
       "      <td>1</td>\n",
       "      <td>1</td>\n",
       "      <td>friday</td>\n",
       "    </tr>\n",
       "    <tr>\n",
       "      <th>2019-09-06 07:02:00</th>\n",
       "      <td>1</td>\n",
       "      <td>dairy</td>\n",
       "      <td>0</td>\n",
       "      <td>1</td>\n",
       "      <td>1</td>\n",
       "      <td>friday</td>\n",
       "    </tr>\n",
       "    <tr>\n",
       "      <th>2019-09-06 07:03:00</th>\n",
       "      <td>1</td>\n",
       "      <td>dairy</td>\n",
       "      <td>0</td>\n",
       "      <td>1</td>\n",
       "      <td>1</td>\n",
       "      <td>friday</td>\n",
       "    </tr>\n",
       "    <tr>\n",
       "      <th>2019-09-06 07:04:00</th>\n",
       "      <td>1</td>\n",
       "      <td>spices</td>\n",
       "      <td>1</td>\n",
       "      <td>0</td>\n",
       "      <td>6</td>\n",
       "      <td>friday</td>\n",
       "    </tr>\n",
       "  </tbody>\n",
       "</table>\n",
       "</div>"
      ],
      "text/plain": [
       "                     customer_no location  nr_loc  add  cust_total     day\n",
       "timestamp                                                                 \n",
       "2019-09-06 07:00:00            1    dairy       0    1           1  friday\n",
       "2019-09-06 07:01:00            1    dairy       0    1           1  friday\n",
       "2019-09-06 07:02:00            1    dairy       0    1           1  friday\n",
       "2019-09-06 07:03:00            1    dairy       0    1           1  friday\n",
       "2019-09-06 07:04:00            1   spices       1    0           6  friday"
      ]
     },
     "execution_count": 7,
     "metadata": {},
     "output_type": "execute_result"
    }
   ],
   "source": [
    "### Use resample to make it easier to calculate the nr. of customers at each point\n",
    "### in time\n",
    "total = total.groupby([\"customer_no\", \"day\"]).resample(\"min\").ffill()\n",
    "total.index = total.index.droplevel([0, 1])\n",
    "total.head()"
   ]
  },
  {
   "cell_type": "code",
   "execution_count": 8,
   "id": "ca79c9fc",
   "metadata": {},
   "outputs": [
    {
     "data": {
      "text/plain": [
       "location\n",
       "checkout     7417\n",
       "dairy       17774\n",
       "drinks       9726\n",
       "fruit       12708\n",
       "spices       6278\n",
       "Name: customer_no, dtype: int64"
      ]
     },
     "execution_count": 8,
     "metadata": {},
     "output_type": "execute_result"
    }
   ],
   "source": [
    "### Calculate the total number of customers in each section\n",
    "total.groupby(\"location\")[\"customer_no\"].count()"
   ]
  },
  {
   "cell_type": "code",
   "execution_count": 10,
   "id": "ca3b316c",
   "metadata": {},
   "outputs": [
    {
     "data": {
      "image/png": "[encoded data removed]",
      "text/plain": [
       "<Figure size 432x288 with 1 Axes>"
      ]
     },
     "metadata": {
      "needs_background": "light"
     },
     "output_type": "display_data"
    },
    {
     "data": {
      "text/plain": [
       "<Figure size 2880x1440 with 0 Axes>"
      ]
     },
     "metadata": {},
     "output_type": "display_data"
    }
   ],
   "source": [
    "### Display the number of customers at checkout over time\n",
    "total.groupby(by=[total.index.day, total.index.hour, \"location\"])[\n",
    "    \"customer_no\"\n",
    "].count().unstack(2)[\"checkout\"].plot(kind=\"bar\")\n",
    "plt.figure(figsize=(40, 20))\n",
    "plt.show()"
   ]
  },
  {
   "cell_type": "code",
   "execution_count": 12,
   "id": "1ceef765",
   "metadata": {},
   "outputs": [
    {
     "data": {
      "image/png": "[encoded data removed]",
      "text/plain": [
       "<Figure size 864x576 with 1 Axes>"
      ]
     },
     "metadata": {
      "needs_background": "light"
     },
     "output_type": "display_data"
    },
    {
     "data": {
      "image/png": "[encoded data removed]",
      "text/plain": [
       "<Figure size 864x576 with 1 Axes>"
      ]
     },
     "metadata": {
      "needs_background": "light"
     },
     "output_type": "display_data"
    },
    {
     "data": {
      "text/plain": [
       "(48, 3)"
      ]
     },
     "execution_count": 12,
     "metadata": {},
     "output_type": "execute_result"
    }
   ],
   "source": [
    "### Calculate the time each customer spent in the market\n",
    "time_ = total.reset_index()\n",
    "time_in_market = (\n",
    "    time_.groupby([\"customer_no\", \"day\"])[[\"timestamp\"]].last()\n",
    "    - time_.groupby([\"customer_no\", \"day\"])[[\"timestamp\"]].first()\n",
    ")\n",
    "time_in_market[\"counter\"] = 1\n",
    "time_in_market.head()\n",
    "time_in_market[\"time_spent\"] = time_in_market.timestamp.dt.seconds / 60\n",
    "time_in_market.hist(column=\"time_spent\", figsize=(12, 8), bins=50)\n",
    "plt.xlabel(\"Time spent in minutes\")\n",
    "plt.ylabel(\"Nr. of customers\")\n",
    "plt.title(\"Distribution of time spent in the supermarket\")\n",
    "plt.show()\n",
    "\n",
    "\n",
    "time_count = time_in_market.groupby(\"timestamp\").count()\n",
    "time_count.shape\n",
    "time_count.reset_index(inplace=True)\n",
    "time_count[\"time_spent\"] = time_count.timestamp.dt.seconds / 60\n",
    "time_count.head()\n",
    "\n",
    "\n",
    "time_count.plot(\n",
    "    x=\"time_spent\", y=\"counter\", figsize=(12, 8)\n",
    ")  # .bar(x='timestamp', height='count')\n",
    "plt.xlabel(\"Time spent in minutes\")\n",
    "plt.ylabel(\"Nr. of customers\")\n",
    "plt.title(\"Distribution of time spent in the supermarket\")\n",
    "plt.show()\n",
    "\n",
    "# time_count.time_spent.value_counts()\n",
    "time_count.shape"
   ]
  },
  {
   "cell_type": "code",
   "execution_count": 13,
   "id": "38d4cac6",
   "metadata": {},
   "outputs": [
    {
     "data": {
      "text/plain": [
       "<AxesSubplot:xlabel='timestamp'>"
      ]
     },
     "execution_count": 13,
     "metadata": {},
     "output_type": "execute_result"
    },
    {
     "data": {
      "image/png": "[encoded data removed]",
      "text/plain": [
       "<Figure size 864x576 with 1 Axes>"
      ]
     },
     "metadata": {
      "needs_background": "light"
     },
     "output_type": "display_data"
    }
   ],
   "source": [
    "### Calculate the total number of customers present in the supermarket over time.\n",
    "# make sure each customer only enters the supermarket max once a day\n",
    "total[total.location == \"checkout\"].groupby([\"customer_no\", \"day\"]).count().max()\n",
    "len(set(monday.customer_no.values).difference())\n",
    "len(set(monday[monday.location == \"checkout\"].customer_no.values))\n",
    "\n",
    "# plot number of totatl customers\n",
    "total.reset_index().plot(x=\"timestamp\", y=\"cust_total\", figsize=(12, 8))\n",
    "\n"
   ]
  },
  {
   "cell_type": "code",
   "execution_count": 15,
   "id": "b23fde74",
   "metadata": {},
   "outputs": [
    {
     "data": {
      "image/png": "[encoded data removed]",
      "text/plain": [
       "<Figure size 864x576 with 1 Axes>"
      ]
     },
     "metadata": {
      "needs_background": "light"
     },
     "output_type": "display_data"
    },
    {
     "data": {
      "image/png": "[encoded data removed]",
      "text/plain": [
       "<Figure size 864x576 with 1 Axes>"
      ]
     },
     "metadata": {
      "needs_background": "light"
     },
     "output_type": "display_data"
    },
    {
     "data": {
      "image/png": "[encoded data removed]",
      "text/plain": [
       "<Figure size 864x576 with 1 Axes>"
      ]
     },
     "metadata": {
      "needs_background": "light"
     },
     "output_type": "display_data"
    }
   ],
   "source": [
    "#### Our business managers think that the first section customers visit follows a different pattern than the following ones. Plot the distribution of customers of their first visited section versus following sections (treat all sections visited after the first as “following”).\n",
    "total_firsts = total[total[\"add\"] == 1].shape[0]\n",
    "freq_firsts = (\n",
    "    total[total[\"add\"] == 1].groupby(\"location\").count()[\"customer_no\"] / total_firsts\n",
    ")\n",
    "freq_firsts.plot.bar(figsize=(12, 8))\n",
    "plt.axis(ymin=0, ymax=1)\n",
    "plt.show()\n",
    "\n",
    "\n",
    "total_seconds = total[total[\"add\"] != 1].shape[0]\n",
    "freq_seconds = (\n",
    "    total[total[\"add\"] != 1].groupby(\"location\").count()[\"customer_no\"] / total_seconds\n",
    ")\n",
    "# freq_firsts.plot.bar(figsize=(12, 8), color='r')\n",
    "freq_seconds.plot.bar(figsize=(12, 8))\n",
    "plt.axis(ymin=0, ymax=1)\n",
    "plt.show()\n",
    "\n",
    "\n",
    "pd.DataFrame(\n",
    "    [freq_firsts, freq_seconds], index=[\"first\", \"second\"]\n",
    ").transpose().plot.bar(figsize=(12, 8))\n",
    "plt.title(\n",
    "    'Frequency of section transitioned into by being a new customer (\"first\") or not (\"second\")'\n",
    ")\n",
    "plt.xlabel(\"Section\")\n",
    "plt.ylabel(\"Frequency of choice\")\n",
    "plt.show()"
   ]
  },
  {
   "cell_type": "code",
   "execution_count": null,
   "id": "d5fce0ed",
   "metadata": {},
   "outputs": [],
   "source": []
  }
 ],
 "metadata": {
  "kernelspec": {
   "display_name": "Python 3",
   "language": "python",
   "name": "python3"
  },
  "language_info": {
   "codemirror_mode": {
    "name": "ipython",
    "version": 3
   },
   "file_extension": ".py",
   "mimetype": "text/x-python",
   "name": "python",
   "nbconvert_exporter": "python",
   "pygments_lexer": "ipython3",
   "version": "3.7.10"
  }
 },
 "nbformat": 4,
 "nbformat_minor": 5
}
